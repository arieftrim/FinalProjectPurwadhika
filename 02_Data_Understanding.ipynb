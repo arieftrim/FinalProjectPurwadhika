{
  "nbformat": 4,
  "nbformat_minor": 0,
  "metadata": {
    "colab": {
      "name": "02_Data_Understanding.ipynb",
      "provenance": []
    },
    "kernelspec": {
      "name": "python3",
      "display_name": "Python 3"
    },
    "language_info": {
      "name": "python"
    }
  },
  "cells": [
    {
      "cell_type": "markdown",
      "source": [
        "# **Data Understanding**\n"
      ],
      "metadata": {
        "id": "7qrQv79aDxM2"
      }
    },
    {
      "cell_type": "markdown",
      "source": [
        "This dataset contained anonymous information of candidates applying for a training and their various background. Using model and the current credentials,demographics,experience data we can predict the probability of a candidate to look for a new job or will work for the company, as well as interpreting affected factors on employee decision.\n",
        "\n",
        "The data is divided to train and test, with 14 columns and includes 19158 entries on the training data set and 2129 entries on the testing dataset.The dataset used in this project will only be the training dataset, since the test dataset does not have a target column and meant as a submission to kaggle. \n",
        "\n",
        "\n",
        "\n"
      ],
      "metadata": {
        "id": "bNYO0qJrIrhk"
      }
    },
    {
      "cell_type": "markdown",
      "source": [
        "# **Data Source**"
      ],
      "metadata": {
        "id": "AsWqhN-YIwBN"
      }
    },
    {
      "cell_type": "markdown",
      "source": [
        "The dataset is open-source and can be found on [kaggle](https://www.kaggle.com/arashnic/hr-analytics-job-change-of-data-scientists)."
      ],
      "metadata": {
        "id": "dMGAwN2XIztS"
      }
    },
    {
      "cell_type": "markdown",
      "source": [
        "# **Data Overview**"
      ],
      "metadata": {
        "id": "KMMjcn-iJJm0"
      }
    },
    {
      "cell_type": "markdown",
      "source": [
        "|     Dataset   Statistics               |     Count         |     Variable   Types    |     Count    |\n",
        "|----------------------------------------|-------------------|-------------------------|--------------|\n",
        "|     Number   of variables              |     14            |     Numeric             |     3       |\n",
        "|     Number   of observations           |     19158        |     Categorical         |     14       |\n",
        "|     Missing   cells                    |     20778       |\n",
        "|     Missing   cells (%)                |     7.74   %      |                         |              |\n",
        "|     Duplicate   rows                   |     0             |                         |              |\n",
        "|     Duplicate   rows (%)               |     0.0   %       |                         |              |\n",
        "|     Total   size in memory             |     1.87   MB    |                         |              |\n"
      ],
      "metadata": {
        "id": "oSkn58PkJMH7"
      }
    },
    {
      "cell_type": "markdown",
      "source": [
        "# **Columns Explanation**\n",
        "\n",
        "| No |         Feature        | Data Type | Null (%) |                                                          Description                                                          |\n",
        "|:--:|:----------------------:|:---------:|:--------:|:-----------------------------------------------------------------------------------------------------------------------------:|\n",
        "| 1  | enrolee_id             | int64     | 0 %      | Unique Id for enrolee                                                                                                         |\n",
        "| 2  | City                   | object    | 0 %      | City Code                                                                                                                     |\n",
        "| 3  | City_development_index | float64   | 0 %      | Scaled development index for the city (How developed is the city)                                                             |\n",
        "| 4  | gender                 | object    | 23.53 %  | The gender of the enrolee                                                                                                     |\n",
        "| 5  | relevant_experience    | object    | 0 %      | Shows if the enrolee have any relevant experience or not                                                                      |\n",
        "| 6  | enrolled_university    | object    | 2.01 %   | The university type of the enrolee                                                                                            |\n",
        "| 7  | education_level        | object    | 2.40 %   | The level of the enrolee education                                                                                            |\n",
        "| 8  | major_discipline       | object    | 14.68 %  | The discipline of the enrolee education                                                                                       |\n",
        "| 9  | experience             | object    | 0.33 %   | The total experience of the enrolee                                                                                           |\n",
        "| 10 | company_size           | object    | 38.67 %  | Number of employee in the enrolee current company                                                                             |\n",
        "| 11 | company_type           | object    | 32.04 %  | Type of the current employee                                                                                                  |\n",
        "| 12 | last_new_job           | object    | 2.20 %   | Difference in years between current and last job                                                                              |\n",
        "| 13 | training_hours         | int64     | 0 %      | Training hours completed by the enrolee                                                                                       |\n",
        "| 14 | target                 | float64   | 0 %      | Defined if the candidate looking for a job change or not (0 - for not looking for a job change, 1 - looking for a job change) |"
      ],
      "metadata": {
        "id": "6zPVLiCTLtjN"
      }
    }
  ]
}