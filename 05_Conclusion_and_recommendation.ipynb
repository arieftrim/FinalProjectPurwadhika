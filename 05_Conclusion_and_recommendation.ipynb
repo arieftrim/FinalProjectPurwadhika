{
  "nbformat": 4,
  "nbformat_minor": 0,
  "metadata": {
    "colab": {
      "name": "05.Conclusion_and_recommendation.ipynb",
      "provenance": []
    },
    "kernelspec": {
      "name": "python3",
      "display_name": "Python 3"
    },
    "language_info": {
      "name": "python"
    }
  },
  "cells": [
    {
      "cell_type": "markdown",
      "source": [
        "# Conclusion and Recommendation\n",
        "\n",
        "**Conclusion**\n",
        "\n",
        "In this project to predict who will stay and who will not we tried to make some models using various classification method. Some of the method we used includes XGBClassification, Decision Tree, Logistic Regression, Random Forest, and AdaBoostClassification. \n",
        "\n",
        "It is concluded that some perform better than others, and to even better the results we tried to combine the best performing classification method using VC classifier (XGB, DT, and RF). It resulted in:\n",
        "\n",
        "| Metric    | Score              |\n",
        "|-----------|--------------------|\n",
        "| Recall    | 0.744  |\n",
        "| Precision | 0.797|\n",
        "| F1        | 0.770 |\n",
        "| Accuracy  | 0.777 |\n",
        "\n",
        "Although far from perfect, this model can predict quite consistently already and we hoped it fulfilled the required industry standard.\n",
        "\n",
        "Next we also discovered some of the features that greatly affects the will to move or not for people. It includes:\n",
        "1. City Development Index (How developed are the cities they are from).\n",
        "2. Experience (Total working experience).\n",
        "3. Education Level.\n",
        "4. Last job length.\n",
        "5. Having relevent experience or not. \n",
        "\n",
        "We hope this discovery also can help the HRs to decide and pre-screen candidates faster. Next there are some recommendation we would like to give regarding this model and its future deployment or use.\n",
        "\n",
        "#Recommendation\n",
        "\n",
        "1. Keep improving and retraining the model as more data is getting gathered and business problem is evolving. We cannot assume that the same insights and pattern we gathered here will always stay the same, so this model will need to be retrained in the future (with different insights and approach if needed).\n",
        "2. Gather more possibly affecting factors, such as current salaries (which may be one of the biggest decision affecting factors for jobs).\n",
        "3. Tune the model used. One of the step we haven't done in this project is tuning, and it can be done to improve the model performance even more."
      ],
      "metadata": {
        "id": "Cd3a6BQbGb_x"
      }
    }
  ]
}