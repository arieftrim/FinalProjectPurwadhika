{
  "nbformat": 4,
  "nbformat_minor": 0,
  "metadata": {
    "colab": {
      "name": "01_Problem_Statement.ipynb",
      "provenance": [],
      "collapsed_sections": []
    },
    "kernelspec": {
      "name": "python3",
      "display_name": "Python 3"
    },
    "language_info": {
      "name": "python"
    }
  },
  "cells": [
    {
      "cell_type": "markdown",
      "source": [
        "# **Problem Statement**\n",
        "\n",
        "**Context**\n",
        "\n",
        "A company which is active in Big Data and Data Science wants to hire data scientists among people who successfully pass some courses which was conducted by the company. Many people signup for their training. Company wants to know which of these candidates really wants to work for the company after training or looking for a new employment because it helps to reduce the cost and time as well as the quality of training or planning the courses and categorization of candidates.\n",
        "\n",
        "**Business Objective**\n",
        "\n",
        "The objective of this project is to predict which candidates really wants to work for the company after training or looking for a new employment.\n",
        "\n",
        "**Output**\n",
        "\n",
        "The Output of this project is a model used to classified candidates who signed up for the training, whether they will look for a new job or work for the company, as well as interpreting affected factors on employee decision.\n",
        "\n",
        "**Machine Learning Task**\n",
        "\n",
        "This project will use supervised machine learning - specifically Classification. Classification is used because we want to categorize the candidates using the data available whether the candidates want to work for the company or not.\n",
        "\n",
        "**Performance Measure**\n",
        "\n",
        "In order to measure the performance of the classification model, we use the following metrics: Recall, Precision, and, F1 Score.\n",
        "\n",
        "**Acknowledgements**\n",
        "\n",
        "This project uses an open source dataset, with 14 columns and includes 19158 entries on the training data set and 2129 entries on the testing dataset. The data contains anonymous information of candidates signing up for a training and explains their various background. It can be found and accesed on kaggle: \n",
        "https://www.kaggle.com/arashnic/hr-analytics-job-change-of-data-scientists."
      ],
      "metadata": {
        "id": "ztrrOd75gJUZ"
      }
    }
  ]
}